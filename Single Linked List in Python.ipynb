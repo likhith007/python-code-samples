{
 "cells": [
  {
   "cell_type": "markdown",
   "metadata": {},
   "source": [
    "# simple linked list in Python"
   ]
  },
  {
   "cell_type": "code",
   "execution_count": 4,
   "metadata": {},
   "outputs": [
    {
     "name": "stdout",
     "output_type": "stream",
     "text": [
      "Enter 1 to add data in linked list and 0 to stop adding to the linked list\n",
      "1\n",
      "Enter data to insert in linked listLikhith\n",
      "Enter 1 to add data in linked list and 0 to stop adding to the linked list\n",
      "1\n",
      "Enter data to insert in linked listKumar\n",
      "Enter 1 to add data in linked list and 0 to stop adding to the linked list\n",
      "1\n",
      "Enter data to insert in linked listis a Good Boy\n",
      "Enter 1 to add data in linked list and 0 to stop adding to the linked list\n",
      "0\n",
      "Likhith\n",
      "Kumar\n",
      "is a Good Boy\n"
     ]
    }
   ],
   "source": [
    "class Node:\n",
    "    pass\n",
    "\n",
    "node_start,node_end = None, None\n",
    "\n",
    "def createNode(node_start,node_end):\n",
    "    node1 = Node()\n",
    "    node1.data = input(\"Enter data to insert in linked list\")\n",
    "    node1.next = None\n",
    "    if(node_start==None):\n",
    "        node_start = node1\n",
    "        node_end = node1\n",
    "    else:\n",
    "        node_end.next = node1\n",
    "        node_end = node1\n",
    "    return (node_start,node_end)\n",
    "            \n",
    "def printLinkedList(node_start):\n",
    "    tempNode = node_start\n",
    "    while(tempNode!=None):\n",
    "        print(tempNode.data)\n",
    "        tempNode = tempNode.next\n",
    "    \n",
    "while(True):\n",
    "    print(\"Enter 1 to add data in linked list and 0 to stop adding to the linked list\")\n",
    "    check_val = int(input())\n",
    "    if(check_val==0):\n",
    "        break\n",
    "    if(check_val==1):\n",
    "        node_start,node_end = createNode(node_start,node_end)\n",
    "\n",
    "printLinkedList(node_start)\n",
    "\n",
    "        "
   ]
  },
  {
   "cell_type": "code",
   "execution_count": null,
   "metadata": {},
   "outputs": [],
   "source": []
  },
  {
   "cell_type": "code",
   "execution_count": null,
   "metadata": {},
   "outputs": [],
   "source": []
  }
 ],
 "metadata": {
  "kernelspec": {
   "display_name": "Python 3",
   "language": "python",
   "name": "python3"
  },
  "language_info": {
   "codemirror_mode": {
    "name": "ipython",
    "version": 3
   },
   "file_extension": ".py",
   "mimetype": "text/x-python",
   "name": "python",
   "nbconvert_exporter": "python",
   "pygments_lexer": "ipython3",
   "version": "3.7.0"
  }
 },
 "nbformat": 4,
 "nbformat_minor": 2
}
